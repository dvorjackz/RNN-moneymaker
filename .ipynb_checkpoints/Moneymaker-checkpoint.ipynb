{
 "cells": [
  {
   "cell_type": "markdown",
   "metadata": {},
   "source": [
    "# RNN Moneymaker"
   ]
  },
  {
   "cell_type": "code",
   "execution_count": 1,
   "metadata": {
    "lines_to_next_cell": 2
   },
   "outputs": [],
   "source": [
    "import csv\n",
    "import re\n",
    "import torch\n",
    "import time\n",
    "import numpy as np\n",
    "import matplotlib.pyplot as plt\n",
    "import json\n",
    "import os"
   ]
  },
  {
   "cell_type": "code",
   "execution_count": 2,
   "metadata": {},
   "outputs": [],
   "source": [
    "root_path = 'scrape/'"
   ]
  },
  {
   "cell_type": "code",
   "execution_count": 11,
   "metadata": {
    "lines_to_end_of_cell_marker": 2,
    "lines_to_next_cell": 2
   },
   "outputs": [
    {
     "name": "stdout",
     "output_type": "stream",
     "text": [
      "torch.Size([178750, 122, 4])E.txt))\n",
      "torch.Size([178750, 1])\n"
     ]
    }
   ],
   "source": [
    "seq = []\n",
    "y = []\n",
    "window_size = 122\n",
    "\n",
    "# Only load a third of all stocks because of processing issues\n",
    "\n",
    "for i, filename in enumerate(os.listdir(root_path + 'data')):\n",
    "    \n",
    "    if i % 50 == 0:\n",
    "    \n",
    "        len_stocks = len(os.listdir(root_path + 'data'))\n",
    "        print(\"Loading stock {}/{} ({})\".format(i + 1, len_stocks, filename), end='\\r')\n",
    "        with open(root_path + 'data/' + filename) as f:\n",
    "            if not filename.startswith('.'):\n",
    "                data = json.load(f)\n",
    "\n",
    "                temp = []\n",
    "                for k, v in data.items():\n",
    "                    temp.append(torch.tensor([ float(i[1]) for i in v.items() if i[0] != \"5. volume\" ]).unsqueeze(0))\n",
    "                prices = torch.cat(temp, 0)\n",
    "                \n",
    "                for i in range(len(prices) - window_size - 1):\n",
    "                    seq.append(prices[i:i+window_size].unsqueeze(0))\n",
    "                    y.append(prices[i+window_size][3].item()) # predict the closing price\n",
    "y = torch.tensor(y).unsqueeze(1)\n",
    "X = torch.cat(seq, 0)\n",
    "\n",
    "print(X.shape)\n",
    "print(y.shape)"
   ]
  },
  {
   "cell_type": "code",
   "execution_count": 8,
   "metadata": {},
   "outputs": [],
   "source": [
    "torch.save(X, 'X.pt')\n",
    "torch.save(y, 'y.pt')"
   ]
  },
  {
   "cell_type": "code",
   "execution_count": 6,
   "metadata": {},
   "outputs": [],
   "source": [
    "X = torch.load('X.pt')\n",
    "y = torch.load('y.pt')"
   ]
  },
  {
   "cell_type": "code",
   "execution_count": 12,
   "metadata": {},
   "outputs": [
    {
     "name": "stdout",
     "output_type": "stream",
     "text": [
      "torch.Size([178750, 122, 4])\n",
      "torch.Size([178750, 1])\n",
      "tensor([[-0.1593],\n",
      "        [-0.9682],\n",
      "        [-1.3275],\n",
      "        ...,\n",
      "        [-0.0607],\n",
      "        [ 0.2960],\n",
      "        [ 0.8168]])\n"
     ]
    },
    {
     "data": {
      "image/png": "[encoded data removed]",
      "text/plain": [
       "<Figure size 432x288 with 1 Axes>"
      ]
     },
     "metadata": {},
     "output_type": "display_data"
    }
   ],
   "source": [
    "X_mean = torch.mean(X, dim=1).unsqueeze(1)\n",
    "X_std = torch.std(X, dim=1).unsqueeze(1)\n",
    "\n",
    "X = (X - X_mean) / X_std\n",
    "y = (y - X_mean[:,:,3]) / X_std[:,:,3]\n",
    "\n",
    "print(X.shape)\n",
    "print(y.shape)\n",
    "plt.plot(X[0])\n",
    "print(y)"
   ]
  },
  {
   "cell_type": "code",
   "execution_count": 13,
   "metadata": {},
   "outputs": [
    {
     "name": "stdout",
     "output_type": "stream",
     "text": [
      "old:\n",
      "torch.Size([178750, 122, 4])\n",
      "torch.Size([178750, 1])\n",
      "new:\n",
      "torch.Size([178730, 122, 4])\n",
      "torch.Size([178730, 1])\n"
     ]
    }
   ],
   "source": [
    "print(\"old:\")\n",
    "print(X.shape)\n",
    "print(y.shape)\n",
    "\n",
    "a = torch.sum(torch.sum(X == X, dim=1), dim=1) != 0\n",
    "b = (y == y) != 0\n",
    "\n",
    "c = a if torch.sum(a) < torch.sum(b) else b\n",
    "\n",
    "X = X[c]\n",
    "y = y[c] # To make y (N, 1) from (N,)\n",
    "\n",
    "print(\"new:\")\n",
    "print(X.shape)\n",
    "print(y.shape)"
   ]
  },
  {
   "cell_type": "code",
   "execution_count": 14,
   "metadata": {},
   "outputs": [
    {
     "name": "stdout",
     "output_type": "stream",
     "text": [
      "torch.Size([178730, 122, 4])\n",
      "torch.Size([178730, 1])\n"
     ]
    }
   ],
   "source": [
    "print(X.shape)\n",
    "print(y.shape)"
   ]
  },
  {
   "cell_type": "code",
   "execution_count": 15,
   "metadata": {},
   "outputs": [],
   "source": [
    "N, S, D = X.shape\n",
    "perm = np.random.permutation(N)\n",
    "num_train = int(0.99*N)\n",
    "num_val = N - num_train\n",
    "\n",
    "X_train = X[perm[0:num_train],:,:]\n",
    "y_train = y[perm[0:num_train]]\n",
    "X_val = X[perm[num_train:],:,:]\n",
    "y_val = y[perm[num_train:]]"
   ]
  },
  {
   "cell_type": "code",
   "execution_count": 16,
   "metadata": {},
   "outputs": [
    {
     "name": "stdout",
     "output_type": "stream",
     "text": [
      "torch.Size([176942, 122, 4])\n",
      "torch.Size([176942, 1])\n",
      "torch.Size([1788, 122, 4])\n",
      "torch.Size([1788, 1])\n"
     ]
    }
   ],
   "source": [
    "print(X_train.shape)\n",
    "print(y_train.shape)\n",
    "print(X_val.shape)\n",
    "print(y_val.shape)"
   ]
  },
  {
   "cell_type": "code",
   "execution_count": 17,
   "metadata": {},
   "outputs": [],
   "source": [
    "import torch.optim\n",
    "import torch.nn as nn\n",
    "import torch.nn.functional as F"
   ]
  },
  {
   "cell_type": "code",
   "execution_count": 18,
   "metadata": {},
   "outputs": [],
   "source": [
    "class Dataset(torch.utils.data.Dataset):\n",
    "    def __init__(self, X, Y):\n",
    "        self.X = X\n",
    "        self.Y = Y\n",
    "    \n",
    "    def __len__(self):\n",
    "        return len(self.X)\n",
    "    \n",
    "    def __getitem__(self, index):\n",
    "        return self.X[index], self.Y[index]"
   ]
  },
  {
   "cell_type": "code",
   "execution_count": 19,
   "metadata": {},
   "outputs": [],
   "source": [
    "from torch.utils.data import DataLoader"
   ]
  },
  {
   "cell_type": "code",
   "execution_count": 20,
   "metadata": {},
   "outputs": [],
   "source": [
    "batch_size = 32\n",
    "dataset = Dataset(X_train, y_train)\n",
    "loader = DataLoader(dataset, batch_size)"
   ]
  },
  {
   "cell_type": "code",
   "execution_count": 21,
   "metadata": {},
   "outputs": [],
   "source": [
    "class RNNClassifier(nn.Module):\n",
    "    def __init__(self, input_dim, hidden_dim, output_dim):\n",
    "        super(RNNClassifier, self).__init__()\n",
    "        self.input_dim = input_dim\n",
    "        self.hidden_dim = hidden_dim\n",
    "        self.output_dim = output_dim\n",
    "        \n",
    "        self.rnn = nn.LSTM(input_dim, hidden_dim, batch_first=True)\n",
    "        self.drop = nn.Dropout(0.5)\n",
    "        self.fc = nn.Linear(hidden_dim, output_dim)\n",
    "        \n",
    "    def forward(self, x, h=None):\n",
    "        if type(h) == type(None):\n",
    "            out, hn = self.rnn(x)\n",
    "        else:\n",
    "            out, hn = self.rnn(x, h.detach())\n",
    "        out = self.drop(out)\n",
    "        out = self.fc(out[:, -1, :])\n",
    "        return out"
   ]
  },
  {
   "cell_type": "code",
   "execution_count": 27,
   "metadata": {},
   "outputs": [],
   "source": [
    "input_dim = 4\n",
    "hidden_dim = 20\n",
    "output_dim = 1"
   ]
  },
  {
   "cell_type": "code",
   "execution_count": 28,
   "metadata": {},
   "outputs": [],
   "source": [
    "model = RNNClassifier(input_dim, hidden_dim, output_dim)\n",
    "criterion = nn.MSELoss()\n",
    "optimizer = torch.optim.Adam(model.parameters())"
   ]
  },
  {
   "cell_type": "code",
   "execution_count": 29,
   "metadata": {},
   "outputs": [],
   "source": [
    "train_accs = []\n",
    "val_accs = []\n",
    "train_losses = []\n",
    "val_losses = []\n",
    "epoch = 0"
   ]
  },
  {
   "cell_type": "code",
   "execution_count": 30,
   "metadata": {},
   "outputs": [
    {
     "name": "stdout",
     "output_type": "stream",
     "text": [
      "training loss: 1.781 \t val loss: 2.038\n",
      "training loss: 0.351 \t val loss: 0.490\n",
      "training loss: 0.308 \t val loss: 0.365\n",
      "training loss: 0.417 \t val loss: 0.308\n",
      "training loss: 0.314 \t val loss: 0.348\n",
      "training loss: 0.203 \t val loss: 0.319\n",
      "training loss: 0.096 \t val loss: 0.308\n",
      "training loss: 0.319 \t val loss: 0.283\n",
      "training loss: 0.343 \t val loss: 0.300\n",
      "training loss: 0.150 \t val loss: 0.287\n",
      "training loss: 0.223 \t val loss: 0.337\n",
      "training loss: 0.283 \t val loss: 0.338\n",
      "training loss: 0.270 \t val loss: 0.333\n",
      "training loss: 0.464 \t val loss: 0.329\n",
      "training loss: 0.285 \t val loss: 0.337\n",
      "training loss: 0.344 \t val loss: 0.330\n",
      "training loss: 0.464 \t val loss: 0.328\n",
      "training loss: 0.346 \t val loss: 0.338\n",
      "training loss: 0.205 \t val loss: 0.300\n",
      "training loss: 0.098 \t val loss: 0.299\n",
      "training loss: 0.329 \t val loss: 0.300\n",
      "training loss: 0.432 \t val loss: 0.284\n",
      "training loss: 0.282 \t val loss: 0.274\n",
      "training loss: 0.338 \t val loss: 0.291\n",
      "training loss: 0.340 \t val loss: 0.286\n",
      "training loss: 0.302 \t val loss: 0.277\n",
      "training loss: 0.532 \t val loss: 0.279\n",
      "training loss: 0.145 \t val loss: 0.304\n",
      "training loss: 0.220 \t val loss: 0.266\n",
      "training loss: 0.366 \t val loss: 0.289\n",
      "training loss: 2.057 \t val loss: 0.272\n",
      "training loss: 0.358 \t val loss: 0.291\n",
      "training loss: 0.227 \t val loss: 0.277\n",
      "training loss: 0.202 \t val loss: 0.280\n",
      "training loss: 0.271 \t val loss: 0.267\n",
      "training loss: 0.441 \t val loss: 0.276\n",
      "training loss: 0.176 \t val loss: 0.264\n",
      "training loss: 0.188 \t val loss: 0.248\n",
      "training loss: 0.190 \t val loss: 0.266\n",
      "training loss: 0.176 \t val loss: 0.264\n",
      "training loss: 0.183 \t val loss: 0.257\n",
      "training loss: 0.174 \t val loss: 0.258\n",
      "training loss: 0.325 \t val loss: 0.261\n",
      "training loss: 0.209 \t val loss: 0.239\n",
      "training loss: 0.165 \t val loss: 0.261\n",
      "training loss: 0.131 \t val loss: 0.247\n",
      "training loss: 0.396 \t val loss: 0.266\n",
      "training loss: 0.532 \t val loss: 0.238\n",
      "training loss: 0.220 \t val loss: 0.251\n",
      "training loss: 0.227 \t val loss: 0.244\n",
      "training loss: 0.144 \t val loss: 0.244\n",
      "training loss: 0.402 \t val loss: 0.264\n",
      "training loss: 0.082 \t val loss: 0.227\n",
      "training loss: 0.287 \t val loss: 0.232\n",
      "training loss: 0.190 \t val loss: 0.223\n",
      "training loss: 0.188 \t val loss: 0.235\n",
      "epoch: 1   \t time: 379.86 \t training loss: 4588.596 \t val loss: 0.232\n",
      "training loss: 0.138 \t val loss: 0.236\n",
      "training loss: 0.111 \t val loss: 0.215\n",
      "training loss: 0.206 \t val loss: 0.242\n",
      "training loss: 0.258 \t val loss: 0.217\n",
      "training loss: 0.238 \t val loss: 0.309\n",
      "training loss: 0.178 \t val loss: 0.316\n",
      "training loss: 0.190 \t val loss: 0.272\n",
      "training loss: 0.391 \t val loss: 0.284\n",
      "training loss: 0.188 \t val loss: 0.267\n",
      "training loss: 0.227 \t val loss: 0.259\n",
      "training loss: 0.300 \t val loss: 0.403\n",
      "training loss: 0.459 \t val loss: 0.404\n",
      "training loss: 0.414 \t val loss: 0.404\n",
      "training loss: 0.558 \t val loss: 0.358\n",
      "training loss: 0.352 \t val loss: 0.361\n",
      "training loss: 0.164 \t val loss: 0.359\n",
      "training loss: 0.409 \t val loss: 0.383\n",
      "training loss: 0.199 \t val loss: 0.346\n",
      "training loss: 0.412 \t val loss: 0.331\n",
      "training loss: 0.195 \t val loss: 0.345\n",
      "training loss: 0.346 \t val loss: 0.332\n",
      "training loss: 0.378 \t val loss: 0.333\n",
      "training loss: 0.255 \t val loss: 0.330\n",
      "training loss: 0.288 \t val loss: 0.318\n",
      "training loss: 0.329 \t val loss: 0.307\n",
      "training loss: 0.271 \t val loss: 0.299\n",
      "training loss: 0.275 \t val loss: 0.296\n",
      "training loss: 0.236 \t val loss: 0.292\n",
      "training loss: 0.242 \t val loss: 0.298\n",
      "training loss: 0.362 \t val loss: 0.281\n",
      "training loss: 1.860 \t val loss: 0.298\n",
      "training loss: 0.175 \t val loss: 0.274\n",
      "training loss: 0.184 \t val loss: 0.289\n",
      "training loss: 0.280 \t val loss: 0.270\n",
      "training loss: 0.212 \t val loss: 0.267\n",
      "training loss: 0.434 \t val loss: 0.281\n",
      "training loss: 0.291 \t val loss: 0.279\n",
      "training loss: 0.138 \t val loss: 0.283\n",
      "training loss: 0.215 \t val loss: 0.288\n",
      "training loss: 0.155 \t val loss: 0.259\n",
      "training loss: 0.210 \t val loss: 0.265\n",
      "training loss: 0.264 \t val loss: 0.260\n",
      "training loss: 0.219 \t val loss: 0.259\n",
      "training loss: 0.441 \t val loss: 0.254\n",
      "training loss: 0.226 \t val loss: 0.257\n",
      "training loss: 0.216 \t val loss: 0.238\n",
      "training loss: 0.271 \t val loss: 0.243\n",
      "training loss: 0.758 \t val loss: 0.259\n",
      "training loss: 0.198 \t val loss: 0.242\n",
      "training loss: 0.256 \t val loss: 0.245\n",
      "training loss: 0.073 \t val loss: 0.234\n",
      "training loss: 0.337 \t val loss: 0.241\n",
      "training loss: 0.120 \t val loss: 0.219\n",
      "training loss: 0.410 \t val loss: 0.245\n",
      "training loss: 0.329 \t val loss: 0.238\n",
      "training loss: 0.160 \t val loss: 0.223\n",
      "epoch: 2   \t time: 501.41 \t training loss: 4588.447 \t val loss: 0.220\n",
      "training loss: 0.113 \t val loss: 0.235\n",
      "training loss: 0.102 \t val loss: 0.238\n",
      "training loss: 0.240 \t val loss: 0.233\n",
      "training loss: 0.305 \t val loss: 0.219\n",
      "training loss: 0.317 \t val loss: 0.371\n",
      "training loss: 0.352 \t val loss: 0.369\n",
      "training loss: 0.321 \t val loss: 0.346\n",
      "training loss: 0.405 \t val loss: 0.350\n",
      "training loss: 0.154 \t val loss: 0.339\n",
      "training loss: 0.151 \t val loss: 0.303\n",
      "training loss: 0.566 \t val loss: 0.494\n",
      "training loss: 0.410 \t val loss: 0.434\n",
      "training loss: 0.377 \t val loss: 0.429\n",
      "training loss: 0.640 \t val loss: 0.410\n",
      "training loss: 0.334 \t val loss: 0.444\n",
      "training loss: 0.568 \t val loss: 0.416\n",
      "training loss: 0.332 \t val loss: 0.429\n",
      "training loss: 0.203 \t val loss: 0.374\n",
      "training loss: 0.398 \t val loss: 0.348\n",
      "training loss: 0.142 \t val loss: 0.360\n",
      "training loss: 0.569 \t val loss: 0.342\n",
      "training loss: 0.467 \t val loss: 0.338\n",
      "training loss: 0.297 \t val loss: 0.312\n",
      "training loss: 0.285 \t val loss: 0.310\n",
      "training loss: 0.332 \t val loss: 0.302\n",
      "training loss: 0.444 \t val loss: 0.323\n",
      "training loss: 0.372 \t val loss: 0.317\n",
      "training loss: 0.187 \t val loss: 0.291\n",
      "training loss: 0.326 \t val loss: 0.290\n",
      "training loss: 0.231 \t val loss: 0.292\n",
      "training loss: 1.381 \t val loss: 0.285\n",
      "training loss: 0.257 \t val loss: 0.284\n",
      "training loss: 0.204 \t val loss: 0.277\n",
      "training loss: 0.236 \t val loss: 0.283\n",
      "training loss: 0.228 \t val loss: 0.288\n",
      "training loss: 0.400 \t val loss: 0.267\n",
      "training loss: 0.164 \t val loss: 0.248\n",
      "training loss: 0.307 \t val loss: 0.270\n",
      "training loss: 0.382 \t val loss: 0.253\n",
      "training loss: 0.147 \t val loss: 0.266\n",
      "training loss: 0.217 \t val loss: 0.269\n",
      "training loss: 0.192 \t val loss: 0.256\n",
      "training loss: 0.152 \t val loss: 0.245\n",
      "training loss: 0.217 \t val loss: 0.264\n",
      "training loss: 0.151 \t val loss: 0.269\n",
      "training loss: 0.203 \t val loss: 0.265\n",
      "training loss: 0.228 \t val loss: 0.245\n",
      "training loss: 0.928 \t val loss: 0.250\n",
      "training loss: 0.207 \t val loss: 0.229\n",
      "training loss: 0.174 \t val loss: 0.247\n",
      "training loss: 0.166 \t val loss: 0.251\n",
      "training loss: 0.380 \t val loss: 0.230\n",
      "training loss: 0.115 \t val loss: 0.222\n",
      "training loss: 0.244 \t val loss: 0.242\n",
      "training loss: 0.104 \t val loss: 0.241\n",
      "training loss: 0.214 \t val loss: 0.231\n",
      "epoch: 3   \t time: 551.45 \t training loss: 4588.403 \t val loss: 0.228\n",
      "training loss: 0.144 \t val loss: 0.228\n",
      "training loss: 0.134 \t val loss: 0.214\n",
      "training loss: 0.204 \t val loss: 0.239\n",
      "training loss: 0.281 \t val loss: 0.231\n",
      "training loss: 0.237 \t val loss: 0.330\n",
      "training loss: 0.253 \t val loss: 0.278\n",
      "training loss: 0.178 \t val loss: 0.268\n",
      "training loss: 0.344 \t val loss: 0.270\n",
      "training loss: 0.105 \t val loss: 0.246\n",
      "training loss: 0.132 \t val loss: 0.262\n",
      "training loss: 0.306 \t val loss: 0.373\n",
      "training loss: 0.297 \t val loss: 0.376\n",
      "training loss: 0.221 \t val loss: 0.324\n",
      "training loss: 0.327 \t val loss: 0.315\n",
      "training loss: 0.192 \t val loss: 0.309\n",
      "training loss: 0.199 \t val loss: 0.295\n",
      "training loss: 0.446 \t val loss: 0.285\n",
      "training loss: 0.285 \t val loss: 0.286\n",
      "training loss: 0.245 \t val loss: 0.312\n",
      "training loss: 0.261 \t val loss: 0.272\n",
      "training loss: 0.432 \t val loss: 0.299\n",
      "training loss: 0.295 \t val loss: 0.273\n",
      "training loss: 0.198 \t val loss: 0.280\n",
      "training loss: 0.148 \t val loss: 0.271\n",
      "training loss: 0.160 \t val loss: 0.261\n",
      "training loss: 0.355 \t val loss: 0.263\n",
      "training loss: 0.249 \t val loss: 0.257\n",
      "training loss: 0.161 \t val loss: 0.245\n",
      "training loss: 0.215 \t val loss: 0.245\n",
      "training loss: 0.311 \t val loss: 0.276\n",
      "training loss: 3.387 \t val loss: 0.261\n",
      "training loss: 0.223 \t val loss: 0.255\n",
      "training loss: 0.150 \t val loss: 0.248\n",
      "training loss: 0.217 \t val loss: 0.265\n",
      "training loss: 0.247 \t val loss: 0.255\n",
      "training loss: 0.368 \t val loss: 0.256\n",
      "training loss: 0.230 \t val loss: 0.256\n"
     ]
    },
    {
     "name": "stdout",
     "output_type": "stream",
     "text": [
      "training loss: 0.202 \t val loss: 0.237\n",
      "training loss: 0.249 \t val loss: 0.230\n",
      "training loss: 0.168 \t val loss: 0.238\n",
      "training loss: 0.156 \t val loss: 0.242\n",
      "training loss: 0.132 \t val loss: 0.241\n",
      "training loss: 0.364 \t val loss: 0.238\n",
      "training loss: 0.213 \t val loss: 0.220\n",
      "training loss: 0.073 \t val loss: 0.220\n",
      "training loss: 0.186 \t val loss: 0.245\n",
      "training loss: 0.410 \t val loss: 0.228\n",
      "training loss: 0.523 \t val loss: 0.217\n",
      "training loss: 0.294 \t val loss: 0.234\n",
      "training loss: 0.130 \t val loss: 0.240\n",
      "training loss: 0.143 \t val loss: 0.230\n",
      "training loss: 0.418 \t val loss: 0.233\n",
      "training loss: 0.077 \t val loss: 0.229\n",
      "training loss: 0.389 \t val loss: 0.205\n",
      "training loss: 0.201 \t val loss: 0.228\n",
      "training loss: 0.217 \t val loss: 0.222\n",
      "epoch: 4   \t time: 455.30 \t training loss: 4588.521 \t val loss: 0.222\n",
      "training loss: 0.129 \t val loss: 0.206\n",
      "training loss: 0.106 \t val loss: 0.208\n",
      "training loss: 0.132 \t val loss: 0.220\n",
      "training loss: 0.234 \t val loss: 0.214\n",
      "training loss: 0.269 \t val loss: 0.339\n",
      "training loss: 0.375 \t val loss: 0.315\n",
      "training loss: 0.204 \t val loss: 0.276\n",
      "training loss: 0.245 \t val loss: 0.283\n",
      "training loss: 0.153 \t val loss: 0.263\n",
      "training loss: 0.277 \t val loss: 0.260\n",
      "training loss: 0.303 \t val loss: 0.395\n",
      "training loss: 0.377 \t val loss: 0.361\n",
      "training loss: 0.313 \t val loss: 0.339\n",
      "training loss: 0.407 \t val loss: 0.330\n",
      "training loss: 0.169 \t val loss: 0.328\n",
      "training loss: 0.411 \t val loss: 0.319\n",
      "training loss: 0.257 \t val loss: 0.288\n",
      "training loss: 0.183 \t val loss: 0.287\n",
      "training loss: 0.187 \t val loss: 0.273\n",
      "training loss: 0.192 \t val loss: 0.285\n",
      "training loss: 0.364 \t val loss: 0.259\n",
      "training loss: 0.305 \t val loss: 0.255\n",
      "training loss: 0.185 \t val loss: 0.257\n",
      "training loss: 0.346 \t val loss: 0.232\n",
      "training loss: 0.230 \t val loss: 0.250\n",
      "training loss: 0.298 \t val loss: 0.263\n",
      "training loss: 0.432 \t val loss: 0.253\n",
      "training loss: 0.156 \t val loss: 0.235\n",
      "training loss: 0.245 \t val loss: 0.223\n",
      "training loss: 0.230 \t val loss: 0.223\n",
      "training loss: 1.794 \t val loss: 0.238\n",
      "training loss: 0.195 \t val loss: 0.240\n",
      "training loss: 0.184 \t val loss: 0.234\n",
      "training loss: 0.180 \t val loss: 0.230\n",
      "training loss: 0.146 \t val loss: 0.226\n",
      "training loss: 0.389 \t val loss: 0.229\n",
      "training loss: 0.153 \t val loss: 0.222\n",
      "training loss: 0.122 \t val loss: 0.211\n",
      "training loss: 0.314 \t val loss: 0.228\n",
      "training loss: 0.205 \t val loss: 0.221\n",
      "training loss: 0.210 \t val loss: 0.216\n",
      "training loss: 0.169 \t val loss: 0.222\n",
      "training loss: 0.179 \t val loss: 0.207\n",
      "training loss: 0.227 \t val loss: 0.214\n",
      "training loss: 0.104 \t val loss: 0.212\n",
      "training loss: 0.223 \t val loss: 0.214\n",
      "training loss: 0.376 \t val loss: 0.218\n",
      "training loss: 1.061 \t val loss: 0.222\n",
      "training loss: 0.179 \t val loss: 0.206\n",
      "training loss: 0.207 \t val loss: 0.206\n",
      "training loss: 0.206 \t val loss: 0.221\n",
      "training loss: 0.366 \t val loss: 0.217\n",
      "training loss: 0.094 \t val loss: 0.217\n",
      "training loss: 0.406 \t val loss: 0.210\n",
      "training loss: 0.198 \t val loss: 0.218\n",
      "training loss: 0.187 \t val loss: 0.216\n",
      "epoch: 5   \t time: 450.84 \t training loss: 4588.301 \t val loss: 0.210\n",
      "Total time: 2338.951, average time per epoch: 467.790\n"
     ]
    }
   ],
   "source": [
    "t0 = time.time()\n",
    "num_epochs = 5\n",
    "for ep in range(num_epochs):\n",
    "    tstart = time.time()\n",
    "    for i, data in enumerate(loader):\n",
    "        print(i, end='\\r')\n",
    "        optimizer.zero_grad()\n",
    "#         print(\"optimizer.zero_grad()\")\n",
    "        outputs = model(data[0])\n",
    "#         print(\"outputs = model(data[0])\")\n",
    "        loss = criterion(outputs, data[1])\n",
    "#         print(\"loss = criterion(outputs, data[1])\")\n",
    "        loss.backward()\n",
    "#         print(\"loss.backward()\")\n",
    "        optimizer.step()\n",
    "#         print(\"optimizer.step()\")\n",
    "        if i%100==0:\n",
    "            train_losses.append(loss.item())\n",
    "            pXval = model(X_val)\n",
    "            vloss = criterion(pXval, y_val)\n",
    "            val_losses.append(vloss.item())\n",
    "            print(\"training loss: {:<3.3f} \\t val loss: {:<3.3f}\".format(loss, vloss))\n",
    "    \n",
    "    ptrain = model(X_train)\n",
    "    tloss = criterion(ptrain, y_train)\n",
    "    train_losses.append(tloss.item())\n",
    "    \n",
    "    pXval = model(X_val)\n",
    "    vloss = criterion(pXval, y_val)\n",
    "    val_losses.append(vloss.item())\n",
    "    epoch += 1    \n",
    "    tend = time.time()\n",
    "    print('epoch: {:<3d} \\t time: {:<3.2f} \\t training loss: {:<3.3f} \\t val loss: {:<3.3f}'.format(epoch, \n",
    "            tend - tstart, tloss.item(), vloss.item()))\n",
    "time_total = time.time() - t0\n",
    "print('Total time: {:4.3f}, average time per epoch: {:4.3f}'.format(time_total, time_total / num_epochs))"
   ]
  },
  {
   "cell_type": "code",
   "execution_count": 37,
   "metadata": {},
   "outputs": [
    {
     "name": "stderr",
     "output_type": "stream",
     "text": [
      "/usr/local/lib/python3.7/site-packages/torch/serialization.py:360: UserWarning: Couldn't retrieve source code for container of type RNNClassifier. It won't be checked for correctness upon loading.\n",
      "  \"type \" + obj.__name__ + \". It won't be checked \"\n"
     ]
    }
   ],
   "source": [
    "torch.save(model, 'model.pt')"
   ]
  },
  {
   "cell_type": "code",
   "execution_count": 36,
   "metadata": {},
   "outputs": [
    {
     "data": {
      "text/plain": [
       "<matplotlib.legend.Legend at 0x115ba2d10>"
      ]
     },
     "execution_count": 36,
     "metadata": {},
     "output_type": "execute_result"
    },
    {
     "data": {
      "image/png": "[encoded data removed]",
      "text/plain": [
       "<Figure size 432x288 with 1 Axes>"
      ]
     },
     "metadata": {},
     "output_type": "display_data"
    }
   ],
   "source": [
    "t_losses = [i for i in train_losses if i < 4000]\n",
    "plt.plot(t_losses)\n",
    "plt.plot(val_losses)\n",
    "plt.title('loss history')\n",
    "plt.xlabel('epoch')\n",
    "plt.ylabel('loss')\n",
    "plt.yscale('log')\n",
    "plt.legend(['train', 'val'])"
   ]
  },
  {
   "cell_type": "code",
   "execution_count": 38,
   "metadata": {},
   "outputs": [
    {
     "ename": "NameError",
     "evalue": "name 'train' is not defined",
     "output_type": "error",
     "traceback": [
      "\u001b[0;31m---------------------------------------------------------------------------\u001b[0m",
      "\u001b[0;31mNameError\u001b[0m                                 Traceback (most recent call last)",
      "\u001b[0;32m<ipython-input-38-3cc4fe0545b1>\u001b[0m in \u001b[0;36m<module>\u001b[0;34m()\u001b[0m\n\u001b[1;32m      3\u001b[0m \u001b[0;31m# print(X_train[0].std())\u001b[0m\u001b[0;34m\u001b[0m\u001b[0;34m\u001b[0m\u001b[0;34m\u001b[0m\u001b[0m\n\u001b[1;32m      4\u001b[0m \u001b[0mmodel\u001b[0m\u001b[0;34m.\u001b[0m\u001b[0meval\u001b[0m\u001b[0;34m(\u001b[0m\u001b[0;34m)\u001b[0m\u001b[0;34m\u001b[0m\u001b[0;34m\u001b[0m\u001b[0m\n\u001b[0;32m----> 5\u001b[0;31m \u001b[0mprint\u001b[0m\u001b[0;34m(\u001b[0m\u001b[0mtrain\u001b[0m\u001b[0;34m[\u001b[0m\u001b[0;36m0\u001b[0m\u001b[0;34m,\u001b[0m\u001b[0;34m:\u001b[0m\u001b[0mseq_len\u001b[0m\u001b[0;34m,\u001b[0m\u001b[0;34m:\u001b[0m\u001b[0;34m]\u001b[0m\u001b[0;34m.\u001b[0m\u001b[0mshape\u001b[0m\u001b[0;34m)\u001b[0m\u001b[0;34m\u001b[0m\u001b[0;34m\u001b[0m\u001b[0m\n\u001b[0m\u001b[1;32m      6\u001b[0m \u001b[0mpred\u001b[0m \u001b[0;34m=\u001b[0m \u001b[0mmodel\u001b[0m\u001b[0;34m(\u001b[0m\u001b[0mtrain\u001b[0m\u001b[0;34m[\u001b[0m\u001b[0;34m:\u001b[0m\u001b[0;36m1\u001b[0m\u001b[0;34m,\u001b[0m \u001b[0;34m:\u001b[0m\u001b[0mseq_len\u001b[0m\u001b[0;34m,\u001b[0m\u001b[0;34m:\u001b[0m\u001b[0;34m]\u001b[0m\u001b[0;34m)\u001b[0m\u001b[0;34m\u001b[0m\u001b[0;34m\u001b[0m\u001b[0m\n\u001b[1;32m      7\u001b[0m \u001b[0;31m# pred = ((model(X_train[:5]) + t_mean[:5, :, :4]) * t_std[:5, :, :4]).detach()\u001b[0m\u001b[0;34m\u001b[0m\u001b[0;34m\u001b[0m\u001b[0;34m\u001b[0m\u001b[0m\n",
      "\u001b[0;31mNameError\u001b[0m: name 'train' is not defined"
     ]
    }
   ],
   "source": [
    "model.eval()"
   ]
  },
  {
   "cell_type": "code",
   "execution_count": null,
   "metadata": {},
   "outputs": [],
   "source": [
    "# "
   ]
  }
 ],
 "metadata": {
  "jupytext": {
   "formats": "ipynb,py"
  },
  "kernelspec": {
   "display_name": ".venv",
   "language": "python",
   "name": ".venv"
  },
  "language_info": {
   "codemirror_mode": {
    "name": "ipython",
    "version": 3
   },
   "file_extension": ".py",
   "mimetype": "text/x-python",
   "name": "python",
   "nbconvert_exporter": "python",
   "pygments_lexer": "ipython3",
   "version": "3.7.6"
  }
 },
 "nbformat": 4,
 "nbformat_minor": 2
}
