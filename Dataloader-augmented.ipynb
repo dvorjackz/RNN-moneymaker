{
 "cells": [
  {
   "cell_type": "code",
   "execution_count": 1,
   "metadata": {},
   "outputs": [],
   "source": [
    "import json\n",
    "import os\n",
    "import numpy as np\n",
    "import torch\n",
    "import random"
   ]
  },
  {
   "cell_type": "code",
   "execution_count": 2,
   "metadata": {},
   "outputs": [],
   "source": [
    "root_path = 'data/'"
   ]
  },
  {
   "cell_type": "markdown",
   "metadata": {},
   "source": [
    "### Fetch data from text files"
   ]
  },
  {
   "cell_type": "code",
   "execution_count": 3,
   "metadata": {},
   "outputs": [
    {
     "name": "stdout",
     "output_type": "stream",
     "text": [
      "Loading stock 3562/3563 (RDCM.txt)      \n",
      "Total number of stocks: 1187\n"
     ]
    }
   ],
   "source": [
    "raw_data = {}\n",
    "all_files = os.listdir(root_path)\n",
    "\n",
    "for i, filename in enumerate(all_files):\n",
    "    \n",
    "    # Only load 1/N of all stocks\n",
    "    if i % 3 == 0:\n",
    "    \n",
    "        len_stocks = len(all_files)\n",
    "        print(\"Loading stock {}/{} ({})   \".format(i + 1, len_stocks, filename), end='\\r')\n",
    "        \n",
    "        with open(root_path + filename) as f:\n",
    "            if not filename.startswith('.'):\n",
    "                data = json.load(f)\n",
    "                                \n",
    "                prices = []\n",
    "                dates = []\n",
    "                for k, v in data.items():\n",
    "                    vals = [ float(v[\"4. close\"]), abs(float(v[\"2. high\"]) - float(v[\"3. low\"])), float(v[\"5. volume\"]) ]\n",
    "                    prices.append(np.array(vals))\n",
    "                    dates.append(k)\n",
    "                \n",
    "                # reverse so that data is increasing in time\n",
    "                prices.reverse()\n",
    "                dates.reverse()\n",
    "                raw_data[filename.split('.')[0]] = (prices, dates)\n",
    "\n",
    "print(\"\")\n",
    "print(\"Total number of stocks: \" + str(len(raw_data)))"
   ]
  },
  {
   "cell_type": "markdown",
   "metadata": {},
   "source": [
    "### Format data into time series data points with sequence length 122"
   ]
  },
  {
   "cell_type": "code",
   "execution_count": 4,
   "metadata": {},
   "outputs": [
    {
     "name": "stdout",
     "output_type": "stream",
     "text": [
      "Converting to torch tensors...\n",
      "Done\n"
     ]
    }
   ],
   "source": [
    "X_train, X_val = [], []\n",
    "y_train, y_val = [], []\n",
    "\n",
    "train_mean, val_mean = [], []\n",
    "train_std, val_std = [], []\n",
    "\n",
    "window_size = 122 # a third of a year\n",
    "\n",
    "plen = 0\n",
    "for i, items in enumerate(raw_data.items()):\n",
    "    print(\"({}/{})\".format(i, len(raw_data.items())), end=\"\\r\")\n",
    "    k, v = items\n",
    "    prices, _ = v\n",
    "    if len(prices) < window_size + 1:\n",
    "        continue\n",
    "    \n",
    "    prices = torch.tensor(prices).float()\n",
    "    \n",
    "    # used for validating that no data is missing\n",
    "    plen += prices.shape[0] - window_size - 1\n",
    "    \n",
    "    for j in range(prices.shape[0] - window_size - 1):\n",
    "        window = prices[j:j+window_size+1]     # window from 1st to 122nd and pred at 123rd\n",
    "        \n",
    "        mean = torch.mean(window, dim=0)\n",
    "        std = torch.std(window, dim=0)\n",
    "        \n",
    "        has_zeros = False\n",
    "        for k in range(std.shape[0]):\n",
    "            if std[k] == 0:\n",
    "                has_zeros = True\n",
    "                \n",
    "        if has_zeros:\n",
    "            break\n",
    "        \n",
    "        norm_window = (window - mean) / std\n",
    "        norm_x = norm_window[:window_size]\n",
    "        norm_y = norm_window[window_size][0]\n",
    "        \n",
    "        # 90% training to 10% validation\n",
    "        \n",
    "        if random.randrange(10) != 0:\n",
    "            X_train.append(norm_x.unsqueeze(0))\n",
    "            y_train.append(norm_y.item())\n",
    "            train_mean.append(mean)\n",
    "            train_std.append(std)\n",
    "        else:\n",
    "            X_val.append(norm_x.unsqueeze(0))\n",
    "            y_val.append(norm_y.item())\n",
    "            val_mean.append(mean)\n",
    "            val_std.append(std)\n",
    "            \n",
    "print(\"Converting to torch tensors...\")\n",
    "X_train = torch.cat(X_train)\n",
    "y_train = torch.tensor(y_train).unsqueeze(1)\n",
    "X_val = torch.cat(X_val)\n",
    "y_val = torch.tensor(y_val).unsqueeze(1)\n",
    "\n",
    "train_mean = torch.stack(train_mean)\n",
    "val_mean = torch.stack(val_mean)\n",
    "train_std = torch.stack(train_std)\n",
    "val_std = torch.stack(val_std)\n",
    "    \n",
    "print(\"Done\")"
   ]
  },
  {
   "cell_type": "markdown",
   "metadata": {},
   "source": [
    "### Validate data size and shape"
   ]
  },
  {
   "cell_type": "code",
   "execution_count": 5,
   "metadata": {},
   "outputs": [
    {
     "name": "stdout",
     "output_type": "stream",
     "text": [
      "X_train shape: \t\t torch.Size([2542795, 122, 3])\n",
      "X_val shape: \t\t torch.Size([282732, 122, 3])\n",
      "y_train shape: \t\t torch.Size([2542795, 1])\n",
      "y_val shape: \t\t torch.Size([282732, 1])\n",
      "\n",
      "train_mean shape: \t torch.Size([2542795, 3])\n",
      "val_mean: \t\t torch.Size([282732, 3])\n",
      "train_std: \t\t torch.Size([2542795, 3])\n",
      "val_std: \t\t torch.Size([282732, 3])\n",
      "\n"
     ]
    }
   ],
   "source": [
    "print(\"X_train shape: \\t\\t\", X_train.shape)\n",
    "print(\"X_val shape: \\t\\t\", X_val.shape)\n",
    "print(\"y_train shape: \\t\\t\", y_train.shape)\n",
    "print(\"y_val shape: \\t\\t\", y_val.shape)\n",
    "print(\"\")\n",
    "\n",
    "print(\"train_mean shape: \\t\", train_mean.shape)\n",
    "print(\"val_mean: \\t\\t\", val_mean.shape)\n",
    "print(\"train_std: \\t\\t\", train_std.shape)\n",
    "print(\"val_std: \\t\\t\", val_std.shape)\n",
    "print(\"\")\n",
    "\n",
    "# # false means that something is wrong\n",
    "# print(plen == X_train.shape[0] + X_val.shape[0])\n",
    "# print(plen == y_train.shape[0] + y_val.shape[0])\n",
    "# print(plen == train_mean.shape[0] + val_mean.shape[0])\n",
    "# print(plen == train_std.shape[0] + val_mean.shape[0])"
   ]
  },
  {
   "cell_type": "markdown",
   "metadata": {},
   "source": [
    "### Save data to a file"
   ]
  },
  {
   "cell_type": "code",
   "execution_count": null,
   "metadata": {},
   "outputs": [],
   "source": [
    "torch.save((X_train, X_val, y_train, y_val, train_mean, val_mean, train_std, val_std), \"assets/all.pt\")"
   ]
  },
  {
   "cell_type": "code",
   "execution_count": null,
   "metadata": {},
   "outputs": [],
   "source": []
  }
 ],
 "metadata": {
  "jupytext_formats": "ipynb,py",
  "kernelspec": {
   "display_name": "Python 3",
   "language": "python",
   "name": "python3"
  },
  "language_info": {
   "codemirror_mode": {
    "name": "ipython",
    "version": 3
   },
   "file_extension": ".py",
   "mimetype": "text/x-python",
   "name": "python",
   "nbconvert_exporter": "python",
   "pygments_lexer": "ipython3",
   "version": "3.7.4"
  }
 },
 "nbformat": 4,
 "nbformat_minor": 4
}
