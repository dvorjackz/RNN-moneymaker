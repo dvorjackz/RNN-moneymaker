{
 "cells": [
  {
   "cell_type": "markdown",
   "metadata": {},
   "source": [
    "# RNN Moneymaker"
   ]
  },
  {
   "cell_type": "code",
   "execution_count": 1,
   "metadata": {},
   "outputs": [],
   "source": [
    "import numpy as np\n",
    "import torch\n",
    "\n",
    "import requests\n",
    "import os"
   ]
  },
  {
   "cell_type": "code",
   "execution_count": 2,
   "metadata": {},
   "outputs": [
    {
     "name": "stdout",
     "output_type": "stream",
     "text": [
      "5032\n"
     ]
    }
   ],
   "source": [
    "av_api_key = os.environ.get('av_api_key')\n",
    "base_url = \"https://www.alphavantage.co/query?function=TIME_SERIES_DAILY&symbol={}&outputsize=full&apikey={}\"\n",
    "stock = \"MSFT\"\n",
    "url = base_url.format(stock, av_api_key)\n",
    "\n",
    "r = requests.get(url) \n",
    "data = r.json()[\"Time Series (Daily)\"]\n",
    "\n",
    "print(len(data))"
   ]
  },
  {
   "cell_type": "code",
   "execution_count": 7,
   "metadata": {},
   "outputs": [
    {
     "name": "stdout",
     "output_type": "stream",
     "text": [
      "(5032, 5)\n"
     ]
    }
   ],
   "source": [
    "X = []\n",
    "\n",
    "for k, v in data.items():\n",
    "    row = [ float(i[1]) for i in v.items() ]\n",
    "    X.append(row)\n",
    "\n",
    "# X[i] = [open, high, low, close, volume]\n",
    "    \n",
    "X = np.array(X)\n",
    "print(X.shape)"
   ]
  },
  {
   "cell_type": "code",
   "execution_count": 14,
   "metadata": {
    "lines_to_next_cell": 0
   },
   "outputs": [
    {
     "name": "stdout",
     "output_type": "stream",
     "text": [
      "X_train shape:  (4031, 1000, 5)\n",
      "X_test shape:  (4031, 1000, 5)\n",
      "y_train shape:  (4031,)\n",
      "y_test shape:  (4031,)\n"
     ]
    }
   ],
   "source": [
    "X_len = X.shape[0]\n",
    "window_size = 1000\n",
    "X_set, y_set = [], []\n",
    "\n",
    "for i in range(X_len - window_size - 1):\n",
    "    X_set.append(X[i:i+window_size])\n",
    "    y_set.append(X[i+window_size][3]) # predict the closing price\n",
    "\n",
    "X_set, y_set = np.array(X_set), np.array(y_set)\n",
    "num_train = X_set.shape[0]\n",
    "\n",
    "train_size = int(0.8 * num_train)\n",
    "test_size = num_train - train_size\n",
    "X_train, X_test = torch.utils.data.random_split(X_set, [train_size, test_size])\n",
    "y_train, y_test = torch.utils.data.random_split(y_set, [train_size, test_size])\n",
    "\n",
    "X_train, X_test = X_train.dataset, X_test.dataset\n",
    "y_train, y_test = y_train.dataset, y_test.dataset\n",
    "\n",
    "print(\"X_train shape: \", X_train.shape)\n",
    "print(\"X_test shape: \", X_test.shape)\n",
    "print(\"y_train shape: \", y_train.shape)\n",
    "print(\"y_test shape: \", y_test.shape)"
   ]
  },
  {
   "cell_type": "code",
   "execution_count": null,
   "metadata": {
    "lines_to_next_cell": 2
   },
   "outputs": [],
   "source": []
  }
 ],
 "metadata": {
  "jupytext": {
   "formats": "ipynb,py"
  },
  "kernelspec": {
   "display_name": "Python 3",
   "language": "python",
   "name": "python3"
  },
  "language_info": {
   "codemirror_mode": {
    "name": "ipython",
    "version": 3
   },
   "file_extension": ".py",
   "mimetype": "text/x-python",
   "name": "python",
   "nbconvert_exporter": "python",
   "pygments_lexer": "ipython3",
   "version": "3.6.7"
  }
 },
 "nbformat": 4,
 "nbformat_minor": 2
}
